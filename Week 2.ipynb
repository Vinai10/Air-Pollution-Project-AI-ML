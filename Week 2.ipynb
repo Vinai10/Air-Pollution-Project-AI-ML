{
 "cells": [
  {
   "cell_type": "markdown",
   "id": "18957988",
   "metadata": {},
   "source": [
    "### Step 1: Load the Cleaned Dataset\n",
    "We begin by loading the cleaned dataset generated in **Week 1** after preprocessing.  \n",
    "This ensures we are working with a dataset that has no missing values and is ready for ML model training.\n"
   ]
  },
  {
   "cell_type": "code",
   "execution_count": 1,
   "id": "4dbeea28",
   "metadata": {},
   "outputs": [],
   "source": [
    "# Step 1: Import libraries\n",
    "import pandas as pd\n",
    "import numpy as np\n",
    "from sklearn.model_selection import train_test_split\n",
    "from sklearn.impute import SimpleImputer\n",
    "from sklearn.linear_model import LinearRegression\n",
    "from sklearn.tree import DecisionTreeRegressor\n",
    "from sklearn.ensemble import RandomForestRegressor\n",
    "from sklearn.metrics import mean_absolute_error, mean_squared_error, r2_score\n",
    "import matplotlib.pyplot as plt\n"
   ]
  },
  {
   "cell_type": "code",
   "execution_count": 3,
   "id": "d69eab49",
   "metadata": {},
   "outputs": [
    {
     "name": "stdout",
     "output_type": "stream",
     "text": [
      "Data shape: (12865, 17)\n",
      "Columns: ['City', 'Date', 'PM2.5', 'PM10', 'NO', 'NO2', 'NOx', 'NH3', 'CO', 'SO2', 'O3', 'Benzene', 'Toluene', 'Xylene', 'AQI', 'AQI_Bucket', 'City_encoded']\n"
     ]
    },
    {
     "data": {
      "text/html": [
       "<div>\n",
       "<style scoped>\n",
       "    .dataframe tbody tr th:only-of-type {\n",
       "        vertical-align: middle;\n",
       "    }\n",
       "\n",
       "    .dataframe tbody tr th {\n",
       "        vertical-align: top;\n",
       "    }\n",
       "\n",
       "    .dataframe thead th {\n",
       "        text-align: right;\n",
       "    }\n",
       "</style>\n",
       "<table border=\"1\" class=\"dataframe\">\n",
       "  <thead>\n",
       "    <tr style=\"text-align: right;\">\n",
       "      <th></th>\n",
       "      <th>City</th>\n",
       "      <th>Date</th>\n",
       "      <th>PM2.5</th>\n",
       "      <th>PM10</th>\n",
       "      <th>NO</th>\n",
       "      <th>NO2</th>\n",
       "      <th>NOx</th>\n",
       "      <th>NH3</th>\n",
       "      <th>CO</th>\n",
       "      <th>SO2</th>\n",
       "      <th>O3</th>\n",
       "      <th>Benzene</th>\n",
       "      <th>Toluene</th>\n",
       "      <th>Xylene</th>\n",
       "      <th>AQI</th>\n",
       "      <th>AQI_Bucket</th>\n",
       "      <th>City_encoded</th>\n",
       "    </tr>\n",
       "  </thead>\n",
       "  <tbody>\n",
       "    <tr>\n",
       "      <th>0</th>\n",
       "      <td>Ahmedabad</td>\n",
       "      <td>2015-01-01</td>\n",
       "      <td>73.24</td>\n",
       "      <td>141.54</td>\n",
       "      <td>0.92</td>\n",
       "      <td>18.22</td>\n",
       "      <td>17.15</td>\n",
       "      <td>20.36</td>\n",
       "      <td>0.92</td>\n",
       "      <td>27.64</td>\n",
       "      <td>133.36</td>\n",
       "      <td>0.00</td>\n",
       "      <td>0.02</td>\n",
       "      <td>0.00</td>\n",
       "      <td>209.0</td>\n",
       "      <td>Poor</td>\n",
       "      <td>0</td>\n",
       "    </tr>\n",
       "    <tr>\n",
       "      <th>1</th>\n",
       "      <td>Ahmedabad</td>\n",
       "      <td>2015-01-02</td>\n",
       "      <td>73.24</td>\n",
       "      <td>141.54</td>\n",
       "      <td>0.97</td>\n",
       "      <td>15.69</td>\n",
       "      <td>16.46</td>\n",
       "      <td>20.36</td>\n",
       "      <td>0.97</td>\n",
       "      <td>24.55</td>\n",
       "      <td>34.06</td>\n",
       "      <td>3.68</td>\n",
       "      <td>5.50</td>\n",
       "      <td>3.77</td>\n",
       "      <td>209.0</td>\n",
       "      <td>Poor</td>\n",
       "      <td>0</td>\n",
       "    </tr>\n",
       "    <tr>\n",
       "      <th>2</th>\n",
       "      <td>Ahmedabad</td>\n",
       "      <td>2015-01-03</td>\n",
       "      <td>73.24</td>\n",
       "      <td>141.54</td>\n",
       "      <td>17.40</td>\n",
       "      <td>19.30</td>\n",
       "      <td>29.70</td>\n",
       "      <td>20.36</td>\n",
       "      <td>17.40</td>\n",
       "      <td>29.07</td>\n",
       "      <td>30.70</td>\n",
       "      <td>6.80</td>\n",
       "      <td>16.40</td>\n",
       "      <td>2.25</td>\n",
       "      <td>209.0</td>\n",
       "      <td>Poor</td>\n",
       "      <td>0</td>\n",
       "    </tr>\n",
       "    <tr>\n",
       "      <th>3</th>\n",
       "      <td>Ahmedabad</td>\n",
       "      <td>2015-01-04</td>\n",
       "      <td>73.24</td>\n",
       "      <td>141.54</td>\n",
       "      <td>1.70</td>\n",
       "      <td>18.48</td>\n",
       "      <td>17.97</td>\n",
       "      <td>20.36</td>\n",
       "      <td>1.70</td>\n",
       "      <td>18.59</td>\n",
       "      <td>36.08</td>\n",
       "      <td>4.43</td>\n",
       "      <td>10.14</td>\n",
       "      <td>1.00</td>\n",
       "      <td>209.0</td>\n",
       "      <td>Poor</td>\n",
       "      <td>0</td>\n",
       "    </tr>\n",
       "    <tr>\n",
       "      <th>4</th>\n",
       "      <td>Ahmedabad</td>\n",
       "      <td>2015-01-05</td>\n",
       "      <td>73.24</td>\n",
       "      <td>141.54</td>\n",
       "      <td>22.10</td>\n",
       "      <td>21.42</td>\n",
       "      <td>37.76</td>\n",
       "      <td>20.36</td>\n",
       "      <td>22.10</td>\n",
       "      <td>39.33</td>\n",
       "      <td>39.31</td>\n",
       "      <td>7.01</td>\n",
       "      <td>18.89</td>\n",
       "      <td>2.78</td>\n",
       "      <td>209.0</td>\n",
       "      <td>Poor</td>\n",
       "      <td>0</td>\n",
       "    </tr>\n",
       "  </tbody>\n",
       "</table>\n",
       "</div>"
      ],
      "text/plain": [
       "        City        Date  PM2.5    PM10     NO    NO2    NOx    NH3     CO  \\\n",
       "0  Ahmedabad  2015-01-01  73.24  141.54   0.92  18.22  17.15  20.36   0.92   \n",
       "1  Ahmedabad  2015-01-02  73.24  141.54   0.97  15.69  16.46  20.36   0.97   \n",
       "2  Ahmedabad  2015-01-03  73.24  141.54  17.40  19.30  29.70  20.36  17.40   \n",
       "3  Ahmedabad  2015-01-04  73.24  141.54   1.70  18.48  17.97  20.36   1.70   \n",
       "4  Ahmedabad  2015-01-05  73.24  141.54  22.10  21.42  37.76  20.36  22.10   \n",
       "\n",
       "     SO2      O3  Benzene  Toluene  Xylene    AQI AQI_Bucket  City_encoded  \n",
       "0  27.64  133.36     0.00     0.02    0.00  209.0       Poor             0  \n",
       "1  24.55   34.06     3.68     5.50    3.77  209.0       Poor             0  \n",
       "2  29.07   30.70     6.80    16.40    2.25  209.0       Poor             0  \n",
       "3  18.59   36.08     4.43    10.14    1.00  209.0       Poor             0  \n",
       "4  39.33   39.31     7.01    18.89    2.78  209.0       Poor             0  "
      ]
     },
     "execution_count": 3,
     "metadata": {},
     "output_type": "execute_result"
    }
   ],
   "source": [
    "# Step 2: Load the cleaned dataset from Week 1\n",
    "data = pd.read_csv(\"Cleaned_Air_Pollution_Data.csv\")\n",
    "\n",
    "print(\"Data shape:\", data.shape)\n",
    "print(\"Columns:\", list(data.columns))\n",
    "data.head()\n"
   ]
  },
  {
   "cell_type": "markdown",
   "id": "5c914cc5",
   "metadata": {},
   "source": [
    "### Step 3: Define Features (X) and Target (y)\n",
    "- Target: `AQI`\n",
    "- Features: all numeric pollutant columns (exclude `City`, `Date`, and `AQI_Bucket` because they are not numeric for now).\n"
   ]
  },
  {
   "cell_type": "code",
   "execution_count": 5,
   "id": "ee4c9f51",
   "metadata": {},
   "outputs": [
    {
     "name": "stdout",
     "output_type": "stream",
     "text": [
      "Features shape: (12865, 13)\n",
      "Target shape: (12865,)\n"
     ]
    }
   ],
   "source": [
    "X = data.drop(columns=['City', 'Date', 'AQI_Bucket', 'AQI'], errors='ignore')\n",
    "y = data['AQI']\n",
    "\n",
    "print(\"Features shape:\", X.shape)\n",
    "print(\"Target shape:\", y.shape)\n"
   ]
  },
  {
   "cell_type": "markdown",
   "id": "2d5dcd62",
   "metadata": {},
   "source": [
    "### Step 4: Handle Missing Values\n",
    "- For numerical features → fill missing with **mean**  \n",
    "- For target (AQI) → drop rows with missing AQI\n"
   ]
  },
  {
   "cell_type": "code",
   "execution_count": 7,
   "id": "644b9928",
   "metadata": {},
   "outputs": [
    {
     "name": "stdout",
     "output_type": "stream",
     "text": [
      "Any NaN left in X? 0\n",
      "Any NaN left in y? 0\n"
     ]
    }
   ],
   "source": [
    "# Drop rows where AQI is missing\n",
    "data = data.dropna(subset=['AQI']).reset_index(drop=True)\n",
    "\n",
    "# Redefine X and y after dropping\n",
    "X = data.drop(columns=['City', 'Date', 'AQI_Bucket', 'AQI'], errors='ignore')\n",
    "y = data['AQI']\n",
    "\n",
    "# Impute missing numeric values with mean\n",
    "imputer = SimpleImputer(strategy='mean')\n",
    "X = pd.DataFrame(imputer.fit_transform(X), columns=X.columns)\n",
    "\n",
    "print(\"Any NaN left in X?\", X.isnull().sum().sum())\n",
    "print(\"Any NaN left in y?\", y.isnull().sum())\n"
   ]
  },
  {
   "cell_type": "markdown",
   "id": "9fd2ccee",
   "metadata": {},
   "source": [
    "### Step 5: Train-Test Split\n",
    "We keep 80% for training and 20% for testing.\n"
   ]
  },
  {
   "cell_type": "code",
   "execution_count": 9,
   "id": "b6e52320",
   "metadata": {},
   "outputs": [
    {
     "name": "stdout",
     "output_type": "stream",
     "text": [
      "Train size: (10292, 13)  Test size: (2573, 13)\n"
     ]
    }
   ],
   "source": [
    "X_train, X_test, y_train, y_test = train_test_split(\n",
    "    X, y, test_size=0.2, random_state=42\n",
    ")\n",
    "\n",
    "print(\"Train size:\", X_train.shape, \" Test size:\", X_test.shape)\n"
   ]
  },
  {
   "cell_type": "markdown",
   "id": "cd4cf302",
   "metadata": {},
   "source": [
    "### Step 6: Train Multiple ML Models\n",
    "We will train 3 models:\n",
    "- Linear Regression\n",
    "- Decision Tree Regressor\n",
    "- Random Forest Regressor\n"
   ]
  },
  {
   "cell_type": "code",
   "execution_count": 11,
   "id": "aea36dce",
   "metadata": {},
   "outputs": [
    {
     "name": "stdout",
     "output_type": "stream",
     "text": [
      "✅ Models trained\n"
     ]
    }
   ],
   "source": [
    "# Initialize models\n",
    "lr = LinearRegression()\n",
    "dt = DecisionTreeRegressor(random_state=42)\n",
    "rf = RandomForestRegressor(random_state=42, n_estimators=200)\n",
    "\n",
    "# Train models\n",
    "lr.fit(X_train, y_train)\n",
    "dt.fit(X_train, y_train)\n",
    "rf.fit(X_train, y_train)\n",
    "\n",
    "print(\"✅ Models trained\")\n"
   ]
  },
  {
   "cell_type": "markdown",
   "id": "57232feb",
   "metadata": {},
   "source": [
    "### Step 7: Evaluate Models\n",
    "We use MAE, RMSE, and R² to compare performance.\n"
   ]
  },
  {
   "cell_type": "code",
   "execution_count": 12,
   "id": "091d44e7",
   "metadata": {},
   "outputs": [
    {
     "data": {
      "text/html": [
       "<div>\n",
       "<style scoped>\n",
       "    .dataframe tbody tr th:only-of-type {\n",
       "        vertical-align: middle;\n",
       "    }\n",
       "\n",
       "    .dataframe tbody tr th {\n",
       "        vertical-align: top;\n",
       "    }\n",
       "\n",
       "    .dataframe thead th {\n",
       "        text-align: right;\n",
       "    }\n",
       "</style>\n",
       "<table border=\"1\" class=\"dataframe\">\n",
       "  <thead>\n",
       "    <tr style=\"text-align: right;\">\n",
       "      <th></th>\n",
       "      <th>Model</th>\n",
       "      <th>MAE</th>\n",
       "      <th>RMSE</th>\n",
       "      <th>R2</th>\n",
       "    </tr>\n",
       "  </thead>\n",
       "  <tbody>\n",
       "    <tr>\n",
       "      <th>2</th>\n",
       "      <td>Random Forest</td>\n",
       "      <td>21.045841</td>\n",
       "      <td>51.449586</td>\n",
       "      <td>0.921911</td>\n",
       "    </tr>\n",
       "    <tr>\n",
       "      <th>0</th>\n",
       "      <td>Linear Regression</td>\n",
       "      <td>34.002123</td>\n",
       "      <td>67.631189</td>\n",
       "      <td>0.865066</td>\n",
       "    </tr>\n",
       "    <tr>\n",
       "      <th>1</th>\n",
       "      <td>Decision Tree</td>\n",
       "      <td>30.634182</td>\n",
       "      <td>77.465013</td>\n",
       "      <td>0.822973</td>\n",
       "    </tr>\n",
       "  </tbody>\n",
       "</table>\n",
       "</div>"
      ],
      "text/plain": [
       "               Model        MAE       RMSE        R2\n",
       "2      Random Forest  21.045841  51.449586  0.921911\n",
       "0  Linear Regression  34.002123  67.631189  0.865066\n",
       "1      Decision Tree  30.634182  77.465013  0.822973"
      ]
     },
     "execution_count": 12,
     "metadata": {},
     "output_type": "execute_result"
    }
   ],
   "source": [
    "from sklearn.metrics import mean_absolute_error, r2_score, root_mean_squared_error\n",
    "\n",
    "models = {\"Linear Regression\": lr, \"Decision Tree\": dt, \"Random Forest\": rf}\n",
    "results = []\n",
    "\n",
    "for name, model in models.items():\n",
    "    y_pred = model.predict(X_test)\n",
    "    mae = mean_absolute_error(y_test, y_pred)\n",
    "    rmse = root_mean_squared_error(y_test, y_pred)   # ✅ updated\n",
    "    r2 = r2_score(y_test, y_pred)\n",
    "    results.append([name, mae, rmse, r2])\n",
    "\n",
    "results_df = pd.DataFrame(results, columns=[\"Model\", \"MAE\", \"RMSE\", \"R2\"]).sort_values(\"R2\", ascending=False)\n",
    "results_df\n"
   ]
  },
  {
   "cell_type": "markdown",
   "id": "b0fe3905",
   "metadata": {},
   "source": [
    "### Step 8: Visualization (Best Model)\n",
    "Plot Actual vs Predicted AQI for the best model.\n"
   ]
  },
  {
   "cell_type": "code",
   "execution_count": 13,
   "id": "bac3d211",
   "metadata": {},
   "outputs": [
    {
     "data": {
      "image/png": "[encoded data removed]",
      "text/plain": [
       "<Figure size 600x600 with 1 Axes>"
      ]
     },
     "metadata": {},
     "output_type": "display_data"
    }
   ],
   "source": [
    "best_model_name = results_df.iloc[0][\"Model\"]\n",
    "best_model = models[best_model_name]\n",
    "\n",
    "y_pred_best = best_model.predict(X_test)\n",
    "\n",
    "plt.figure(figsize=(6,6))\n",
    "plt.scatter(y_test, y_pred_best, alpha=0.6)\n",
    "plt.xlabel(\"Actual AQI\")\n",
    "plt.ylabel(\"Predicted AQI\")\n",
    "plt.title(f\"Actual vs Predicted AQI ({best_model_name})\")\n",
    "plt.plot([y_test.min(), y_test.max()], [y_test.min(), y_test.max()], 'r--')\n",
    "plt.show()\n"
   ]
  },
  {
   "cell_type": "markdown",
   "id": "4fd92415",
   "metadata": {},
   "source": [
    "### Step 9: Conclusion (Week 2)\n",
    "- Selected features and target  \n",
    "- Handled missing values  \n",
    "- Trained 3 baseline models  \n",
    "- Evaluated performance using MAE, RMSE, and R²  \n",
    "- Identified the best model (based on R² score)  \n",
    "\n",
    "Next Week: Hyperparameter tuning, feature importance analysis, and model optimization.\n"
   ]
  }
 ],
 "metadata": {
  "kernelspec": {
   "display_name": "Python 3 (ipykernel)",
   "language": "python",
   "name": "python3"
  },
  "language_info": {
   "codemirror_mode": {
    "name": "ipython",
    "version": 3
   },
   "file_extension": ".py",
   "mimetype": "text/x-python",
   "name": "python",
   "nbconvert_exporter": "python",
   "pygments_lexer": "ipython3",
   "version": "3.12.7"
  }
 },
 "nbformat": 4,
 "nbformat_minor": 5
}
